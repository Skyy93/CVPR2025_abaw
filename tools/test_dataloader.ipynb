{
 "cells": [
  {
   "cell_type": "code",
   "execution_count": null,
   "metadata": {},
   "outputs": [],
   "source": [
    "import os\n",
    "os.chdir('/Coding/CVPR2025_abaw_framewise/')"
   ]
  },
  {
   "cell_type": "code",
   "execution_count": 2,
   "metadata": {},
   "outputs": [
    {
     "name": "stderr",
     "output_type": "stream",
     "text": [
      "/home/j0kr0017/conda/lib/python3.12/site-packages/tqdm/auto.py:21: TqdmWarning: IProgress not found. Please update jupyter and ipywidgets. See https://ipywidgets.readthedocs.io/en/stable/user_install.html\n",
      "  from .autonotebook import tqdm as notebook_tqdm\n",
      "[nltk_data] Downloading package punkt_tab to\n",
      "[nltk_data]     /home//j0kr0017/nltk_data...\n",
      "[nltk_data]   Package punkt_tab is already up-to-date!\n",
      "[nltk_data] Downloading package punkt to /home//j0kr0017/nltk_data...\n",
      "[nltk_data]   Package punkt is already up-to-date!\n",
      "[nltk_data] Downloading package wordnet to\n",
      "[nltk_data]     /home//j0kr0017/nltk_data...\n",
      "[nltk_data]   Package wordnet is already up-to-date!\n",
      "[nltk_data] Downloading package omw-1.4 to\n",
      "[nltk_data]     /home//j0kr0017/nltk_data...\n",
      "[nltk_data]   Package omw-1.4 is already up-to-date!\n"
     ]
    },
    {
     "name": "stdout",
     "output_type": "stream",
     "text": [
      "Train Length: 1006\n",
      "Val Length: 1345\n"
     ]
    }
   ],
   "source": [
    "import os\n",
    "import sys\n",
    "import math\n",
    "import time\n",
    "import torch\n",
    "import shutil\n",
    "import pickle\n",
    "import audiomentations\n",
    "\n",
    "from dataclasses import dataclass\n",
    "from torch.utils.data import DataLoader\n",
    "from transformers import AutoTokenizer\n",
    "\n",
    "\n",
    "from abaw.model import Model\n",
    "from abaw.trainer import train\n",
    "from abaw.evaluate import evaluate\n",
    "from abaw.utils import setup_system, Logger\n",
    "from abaw.abaw_dataset import HumeDatasetEval, HumeDatasetTrain, SpecialTokens\n",
    "from abaw.transforms import get_transforms_train, get_transforms_val, get_transforms_train_wave, get_transforms_train_wave_custom\n",
    "\n",
    "@dataclass\n",
    "class Configuration:\n",
    "    model: tuple = ('linear',\n",
    "                    'audeering/wav2vec2-large-robust-12-ft-emotion-msp-dim',\n",
    "                    'Alibaba-NLP/gte-en-mlm-base',)  # 'bert-base-uncased'\n",
    "\n",
    "    text_context_width_s: float = 24.0 \n",
    "    wave_length_s: float = 6.0\n",
    "    eval_fps: float = 0.3          # An evaluation is conducted every X seconds during the given samples. X = eval_fps\n",
    "    device: str = 'cuda' if torch.cuda.is_available() else 'cpu'\n",
    "\n",
    "    # Training \n",
    "    batch_size: int = 32\n",
    "    gpu_ids: tuple = (0,1,2,3)  # GPU ids for training\n",
    "\n",
    "    # Text-Augmentations\n",
    "    enable_text_augs = False\n",
    "    prob_synonym = 0                # 0.01  # prob_synonym\n",
    "    prob_deletion = 0               # 0.01  # prob_deletion  \n",
    "    prob_swap = 0                   # 0.00  # prob_swap\n",
    "    prob_bert = 0                   # 0.025 # prob_bert\n",
    "\n",
    "    enable_custom_sound_augs = False\n",
    "    custom_sound_augs = [\n",
    "        audiomentations.AddGaussianNoise(min_amplitude=0.025, max_amplitude=0.25, p=0.6),  # BEST -> 0.5065\n",
    "        audiomentations.TimeStretch(min_rate=0.95, max_rate=1.05, p=0.5),                  # BEST -> 0.5065 (unverändert)\n",
    "        audiomentations.PitchShift(min_semitones=-2, max_semitones=2, p=0.5),              # BEST -> 0.5065 (unverändert)\n",
    "        audiomentations.Shift(min_shift=-0.1, max_shift=0.1, p=0.5),                       # BEST -> 0.5065 (unverändert)\n",
    "    ]\n",
    "\n",
    "    # Eval\n",
    "    batch_size_eval: int = 32\n",
    "    eval_every_n_epoch: int = 1  # eval every n Epoch\n",
    "\n",
    "    # Dataset\n",
    "    data_folder:str = \"./data_abaw/\"\n",
    "    fps:float = 24\n",
    "    sr:float = 16 * 1e3\n",
    "    # -> within mp4 => 24 FPS\n",
    "\n",
    "    # set num_workers to 0 if on Windows\n",
    "    num_workers: int = 0 if os.name == 'nt' else 4\n",
    "\n",
    "config = Configuration()\n",
    "\n",
    "# Dataloader\n",
    "\n",
    "processor_text = AutoTokenizer.from_pretrained(config.model[2])\n",
    "processor_text.add_special_tokens(SpecialTokens.generate_special_token_dict())\n",
    "\n",
    "# Train\n",
    "train_dataset = HumeDatasetTrain(data_folder=config.data_folder,\n",
    "                                    label_file_csv=f\"data_abaw/splits/train.csv\",\n",
    "                                    model=config.model,\n",
    "                                    sr=config.sr,\n",
    "                                    fps=config.fps,\n",
    "                                    wave_length_s=config.wave_length_s,\n",
    "                                    wave_transforms=get_transforms_train_wave() if not config.enable_custom_sound_augs else get_transforms_train_wave_custom(config.custom_sound_augs),\n",
    "                                    enable_text_augs=config.enable_text_augs,\n",
    "                                    text_context_width_s=config.text_context_width_s,\n",
    "                                    config=config,\n",
    "                                    processor_text=processor_text,\n",
    "                                    )\n",
    "\n",
    "train_dataloader = DataLoader(train_dataset,\n",
    "                                batch_size=config.batch_size,\n",
    "                                num_workers=config.num_workers,\n",
    "                                shuffle=False,\n",
    "                                pin_memory=True,\n",
    "                                collate_fn=train_dataset.collate_fn\n",
    "                                )\n",
    "\n",
    "# Eval\n",
    "eval_dataset = HumeDatasetEval(data_folder=config.data_folder,\n",
    "                                label_file_csv=f\"data_abaw/splits/val.csv\",\n",
    "                                model=config.model,\n",
    "                                sr=config.sr,\n",
    "                                fps=config.fps,\n",
    "                                wave_length_s=config.wave_length_s,\n",
    "                                text_context_width_s=config.text_context_width_s,\n",
    "                                processor_text=processor_text,\n",
    "                                )\n",
    "\n",
    "eval_dataloader = DataLoader(eval_dataset,\n",
    "                                batch_size=config.batch_size_eval,\n",
    "                                num_workers=config.num_workers,\n",
    "                                shuffle=False,\n",
    "                                pin_memory=True,\n",
    "                                collate_fn=eval_dataset.collate_fn\n",
    "                                )\n",
    "\n",
    "print(\"Train Length:\", len(train_dataset))\n",
    "print(\"Val Length:\", len(eval_dataset))\n"
   ]
  },
  {
   "cell_type": "code",
   "execution_count": 3,
   "metadata": {},
   "outputs": [
    {
     "name": "stdout",
     "output_type": "stream",
     "text": [
      "Audio Type: <class 'numpy.ndarray'>\n",
      "Audio Shape: (96000,)\n",
      "Text A: I am willing to play Omi the card game every time I'm almost always feeling to do that [ATTENTION] with my friends or at home with others because I like the game so much and it gives some you to excitement\n",
      "Text A: 0.0\n",
      "Text A: 147813.0\n",
      "Text A: 9.238312721252441\n",
      "Text A: 6.0\n"
     ]
    }
   ],
   "source": [
    "# train\n",
    "index = 6 \n",
    "\n",
    "audio, vision, text, label_id, avg, s, t, idx = train_dataset[index]\n",
    "\n",
    "# Display the type and shape of audio\n",
    "print(f\"Audio Type: {type(audio)}\")\n",
    "if hasattr(audio, \"shape\"):  # For NumPy arrays, PyTorch tensors, etc.\n",
    "    print(f\"Audio Shape: {audio.shape}\")\n",
    "else:\n",
    "    print(\"Audio data:\", audio)  # Fallback for other types\n",
    "\n",
    "# Print text data\n",
    "print(f\"Text A: {text}\")\n",
    "\n",
    "print(f\"Text A: {label_id}\")\n",
    "\n",
    "print(f\"Text A: {s}\")\n",
    "\n",
    "print(f\"Text A: {t}\")\n",
    "\n",
    "print(f\"Text A: {idx}\")\n"
   ]
  },
  {
   "cell_type": "code",
   "execution_count": 4,
   "metadata": {},
   "outputs": [
    {
     "data": {
      "image/png": "[encoded data removed]",
      "text/plain": [
       "<Figure size 640x480 with 1 Axes>"
      ]
     },
     "metadata": {},
     "output_type": "display_data"
    }
   ],
   "source": [
    "import matplotlib.pyplot as plt\n",
    "\n",
    "plt.plot(audio)\n",
    "plt.title(\"Audio Waveform\")\n",
    "plt.xlabel(\"Samples\")\n",
    "plt.ylabel(\"Amplitude\")\n",
    "plt.show()"
   ]
  },
  {
   "cell_type": "code",
   "execution_count": 17,
   "metadata": {},
   "outputs": [
    {
     "name": "stdout",
     "output_type": "stream",
     "text": [
      "Attention Positions: tensor(36)\n",
      "Label ID: tensor(0.)\n",
      "s: tensor(522501.)\n",
      "t: tensor(32.6563)\n",
      "p: tensor(24.)\n",
      "tensor([  101,  2008,  1010,  3398,  1012,  2021,  2112,  1997,  2893,  2870,\n",
      "         2000,  2175,  2041,  1999,  2270,  1010,  2009,  2965,  1045,  2031,\n",
      "         2000,  2785,  1997,  2131,  2870,  3201,  1012,  2061,  3398,  1010,\n",
      "         1045,  2572,  2074,  2025,  2412,  2031, 30522,  2042,  1996,  2828,\n",
      "         1997,  2711,  2040,  2097,  4929,  2026, 27621,  2012,  1996,  6670,\n",
      "         1012,   102,     0,     0,     0,     0,     0,     0,     0,     0,\n",
      "            0,     0,     0,     0,     0,     0,     0,     0,     0,     0,\n",
      "            0,     0,     0,     0,     0,     0,     0,     0,     0,     0,\n",
      "            0,     0,     0,     0,     0,     0,     0,     0,     0,     0,\n",
      "            0,     0,     0,     0,     0,     0,     0,     0,     0,     0,\n",
      "            0,     0,     0,     0,     0,     0,     0,     0,     0])\n",
      "Text: [CLS] that, yeah. but part of getting myself to go out in public, it means i have to kind of get myself ready. so yeah, i am just not ever have [ATTENTION] been the type of person who will wear my pajamas at the mall. [SEP] [PAD] [PAD] [PAD] [PAD] [PAD] [PAD] [PAD] [PAD] [PAD] [PAD] [PAD] [PAD] [PAD] [PAD] [PAD] [PAD] [PAD] [PAD] [PAD] [PAD] [PAD] [PAD] [PAD] [PAD] [PAD] [PAD] [PAD] [PAD] [PAD] [PAD] [PAD] [PAD] [PAD] [PAD] [PAD] [PAD] [PAD] [PAD] [PAD] [PAD] [PAD] [PAD] [PAD] [PAD] [PAD] [PAD] [PAD] [PAD] [PAD] [PAD] [PAD] [PAD] [PAD] [PAD] [PAD] [PAD] [PAD]\n"
     ]
    }
   ],
   "source": [
    "# ATT-TOKEN == 30522\n",
    "\n",
    "idx=24\n",
    "\n",
    "batch = next(iter(train_dataloader))\n",
    "audio, vision, text, att_pos, label_id, avg, s, t, p = batch\n",
    "\n",
    "#print(\"Audio:\", audio)\n",
    "#print(\"Vision:\", vision)\n",
    "print(\"Attention Positions:\", att_pos[idx])\n",
    "print(\"Label ID:\", label_id[idx])\n",
    "#print(\"Average:\", avg)\n",
    "print(\"s:\", s[idx])\n",
    "print(\"t:\", t[idx])\n",
    "print(\"p:\", p[idx])\n",
    "\n",
    "decoded_text = processor_text.decode(text[\"input_ids\"][idx])\n",
    "print(text[\"input_ids\"][idx])\n",
    "print(\"Text:\", decoded_text)\n",
    "#print(\"Text:\", processor_text.decode(text[idx]))\n"
   ]
  },
  {
   "cell_type": "code",
   "execution_count": 6,
   "metadata": {},
   "outputs": [
    {
     "name": "stdout",
     "output_type": "stream",
     "text": [
      "text:  she needs it. She's starving, of course. and so I'll get up head to the kitchen and then go to the cupboard grab her food out of there use the scoop put that in her bowl and then I'll check to [ATTENTION] see how the water is doing and then once I do that if it needs refilling I will fill a cup and put some more water into her bowl and that's one of the things that I do usually right away when\n",
      "sound_index:  609333\n",
      "frame_index:  914\n",
      "time_point:  38.0833125\n",
      "general_path:  82688/Visite_1/82688_Question_1_2024-11-14_13-50-17_Video.mp4/82688_Question_1_2024-11-14_13-50-17_Video\n",
      "class_id:  0\n",
      "Audio Type: <class 'numpy.ndarray'>\n",
      "Audio Shape: (96000,)\n",
      "Text A: she needs it. She's starving, of course. and so I'll get up head to the kitchen and then go to the cupboard grab her food out of there use the scoop put that in her bowl and then I'll check to [ATTENTION] see how the water is doing and then once I do that if it needs refilling I will fill a cup and put some more water into her bowl and that's one of the things that I do usually right away when\n",
      "Text A: 0.0\n",
      "Text A: 609333.0\n",
      "Text A: 38.08331298828125\n",
      "Text A: 15.0\n"
     ]
    }
   ],
   "source": [
    "# train\n",
    "index = 15\n",
    "\n",
    "audio, vision, text, label_id, s, t, idx = eval_dataset[index]\n",
    "\n",
    "# Display the type and shape of audio\n",
    "print(f\"Audio Type: {type(audio)}\")\n",
    "if hasattr(audio, \"shape\"):  # For NumPy arrays, PyTorch tensors, etc.\n",
    "    print(f\"Audio Shape: {audio.shape}\")\n",
    "else:\n",
    "    print(\"Audio data:\", audio)  # Fallback for other types\n",
    "\n",
    "# Print text data\n",
    "print(f\"Text A: {text}\")\n",
    "\n",
    "print(f\"Text A: {label_id}\")\n",
    "\n",
    "print(f\"Text A: {s}\")\n",
    "\n",
    "print(f\"Text A: {t}\")\n",
    "\n",
    "print(f\"Text A: {idx}\")"
   ]
  },
  {
   "cell_type": "code",
   "execution_count": 15,
   "metadata": {},
   "outputs": [
    {
     "name": "stdout",
     "output_type": "stream",
     "text": [
      "Attention Positions: tensor(62)\n",
      "Label ID: tensor(0.)\n",
      "s: tensor(550000.)\n",
      "t: tensor(34.3750)\n",
      "p: tensor(63.)\n",
      "tensor([  101,  2115,  4550,  4933,  1998,  2059,  2431,  1996,  2060,  4933,\n",
      "         2003,  1999,  1996, 14533,  8026,  1998,  2059,  2017,  2123,  1005,\n",
      "         1056,  2031,  2438,  2282,  2000,  2404,  2009,  2067,  1012,  1998,\n",
      "         2009,  1005,  1055,  2036,  2107,  1037,  4450,  6313,  2832,  1012,\n",
      "         1045,  2514,  2066,  2009,  2074,  4515,  2039,  2635,  2061,  2146,\n",
      "         2138,  2017,  2031,  2000, 10671,  2673,  2030,  6865,  2068,  2039,\n",
      "         2006,  1996, 30522,  6865,  2545,  1012,  2059,  2017,  2031,  2000,\n",
      "         3275,  2041,  2073,  2017,  2215,  2000,  2404,  2009,  1012,  1998,\n",
      "         2059,  2054,  2065,  2017,  2123,  1005,  1056,  2031,  2438,  6865,\n",
      "         2545,  2030,  2686,  2000,  2404,  2477,  1029,  1998,  2061,  2009,\n",
      "         2074,  4515,  2039,  3352,  2023,  2428,  4450,  6313,  2832,  1012,\n",
      "         1998,  2043,  2009,  3310,  2000,  2437,  1996,  2793,  2061,  1045,\n",
      "         2052,  2360,  2008,  2003,  2763,  1996,  2087, 15703,  1998, 11771,\n",
      "         2028,  2138,  2009,  1005,  1055,  2074,  1998,  2009,  1005,  1055,\n",
      "         2061,  6945,  6313,  1998,  2017, 10862,  2031,  2000,  2079,  2009,\n",
      "         2053,  3043,  2054,  1012,   102])\n",
      "Text: [CLS] your clean stuff and then half the other stuff is in the laundry bin and then you don't have enough room to put it back. and it's also such a laborious process. i feel like it just ends up taking so long because you have to fold everything or hang them up on the [ATTENTION] hangers. then you have to figure out where you want to put it. and then what if you don't have enough hangers or space to put things? and so it just ends up becoming this really laborious process. and when it comes to making the bed so i would say that is probably the most annoying and boring one because it's just and it's so tedious and you consistently have to do it no matter what. [SEP]\n"
     ]
    }
   ],
   "source": [
    "# ATT-TOKEN == 30522\n",
    "\n",
    "idx=31\n",
    "\n",
    "#it = iter(eval_dataloader)\n",
    "\n",
    "#batch = next(it)\n",
    "#audio, vision, text, att_pos, label_id, s, t, p = batch\n",
    "\n",
    "#print(\"Audio:\", audio)\n",
    "#print(\"Vision:\", vision)\n",
    "print(\"Attention Positions:\", att_pos[idx])\n",
    "print(\"Label ID:\", label_id[idx])\n",
    "#print(\"Average:\", avg)\n",
    "print(\"s:\", s[idx])\n",
    "print(\"t:\", t[idx])\n",
    "print(\"p:\", p[idx])\n",
    "\n",
    "decoded_text = processor_text.decode(text[\"input_ids\"][idx])\n",
    "print(text[\"input_ids\"][idx])\n",
    "print(\"Text:\", decoded_text)\n",
    "#print(\"Text:\", processor_text.decode(text[idx]))\n"
   ]
  }
 ],
 "metadata": {
  "kernelspec": {
   "display_name": "base",
   "language": "python",
   "name": "python3"
  },
  "language_info": {
   "codemirror_mode": {
    "name": "ipython",
    "version": 3
   },
   "file_extension": ".py",
   "mimetype": "text/x-python",
   "name": "python",
   "nbconvert_exporter": "python",
   "pygments_lexer": "ipython3",
   "version": "3.12.2"
  }
 },
 "nbformat": 4,
 "nbformat_minor": 2
}
