{
 "cells": [
  {
   "cell_type": "code",
   "execution_count": 28,
   "metadata": {},
   "outputs": [],
   "source": [
    "import os\n",
    "os.chdir('/Coding/CVPR2025_abaw_framewise/')"
   ]
  },
  {
   "cell_type": "code",
   "execution_count": 29,
   "metadata": {},
   "outputs": [
    {
     "data": {
      "text/html": [
       "<div>\n",
       "<style scoped>\n",
       "    .dataframe tbody tr th:only-of-type {\n",
       "        vertical-align: middle;\n",
       "    }\n",
       "\n",
       "    .dataframe tbody tr th {\n",
       "        vertical-align: top;\n",
       "    }\n",
       "\n",
       "    .dataframe thead th {\n",
       "        text-align: right;\n",
       "    }\n",
       "</style>\n",
       "<table border=\"1\" class=\"dataframe\">\n",
       "  <thead>\n",
       "    <tr style=\"text-align: right;\">\n",
       "      <th></th>\n",
       "      <th>file_path</th>\n",
       "      <th>id</th>\n",
       "      <th>text</th>\n",
       "    </tr>\n",
       "  </thead>\n",
       "  <tbody>\n",
       "    <tr>\n",
       "      <th>0</th>\n",
       "      <td>82622/Visite_1/82622_Question_7_2024-11-05_15-...</td>\n",
       "      <td>1</td>\n",
       "      <td>This is a tough question. My girlfriend and I ...</td>\n",
       "    </tr>\n",
       "    <tr>\n",
       "      <th>1</th>\n",
       "      <td>82650/Visite_1/82650_Question_5_2024-11-13_00-...</td>\n",
       "      <td>0</td>\n",
       "      <td>I am willing to play Omi the card game every t...</td>\n",
       "    </tr>\n",
       "    <tr>\n",
       "      <th>2</th>\n",
       "      <td>82627/Visite_1/82627_Question_5_2024-11-06_11-...</td>\n",
       "      <td>1</td>\n",
       "      <td>I am almost always willing to go out to eat. S...</td>\n",
       "    </tr>\n",
       "    <tr>\n",
       "      <th>3</th>\n",
       "      <td>82708/Visite_1/82708_Question_7_2024-11-18_15-...</td>\n",
       "      <td>1</td>\n",
       "      <td>I could have switched jobs by now, but I haven...</td>\n",
       "    </tr>\n",
       "    <tr>\n",
       "      <th>4</th>\n",
       "      <td>82694/Visite_1/82694_Question_2_2024-11-15_21-...</td>\n",
       "      <td>1</td>\n",
       "      <td>I'm happy was a drinks major I would say I'm c...</td>\n",
       "    </tr>\n",
       "  </tbody>\n",
       "</table>\n",
       "</div>"
      ],
      "text/plain": [
       "                                           file_path id  \\\n",
       "0  82622/Visite_1/82622_Question_7_2024-11-05_15-...  1   \n",
       "1  82650/Visite_1/82650_Question_5_2024-11-13_00-...  0   \n",
       "2  82627/Visite_1/82627_Question_5_2024-11-06_11-...  1   \n",
       "3  82708/Visite_1/82708_Question_7_2024-11-18_15-...  1   \n",
       "4  82694/Visite_1/82694_Question_2_2024-11-15_21-...  1   \n",
       "\n",
       "                                                text  \n",
       "0  This is a tough question. My girlfriend and I ...  \n",
       "1  I am willing to play Omi the card game every t...  \n",
       "2  I am almost always willing to go out to eat. S...  \n",
       "3  I could have switched jobs by now, but I haven...  \n",
       "4  I'm happy was a drinks major I would say I'm c...  "
      ]
     },
     "execution_count": 29,
     "metadata": {},
     "output_type": "execute_result"
    }
   ],
   "source": [
    "import pandas as pd\n",
    "import csv, ffmpeg\n",
    "\n",
    "data = []\n",
    "\n",
    "with open('data_abaw/default-split/train.txt', 'r', encoding='utf-8') as file:\n",
    "    for line in file:\n",
    "        parts = line.strip().split(',', 2)\n",
    "        video_path, label, text = parts\n",
    "        file_path = os.path.join(video_path, os.path.basename(video_path).removesuffix('.mp4'))\n",
    "        data.append([file_path, label, text])\n",
    "\n",
    "df = pd.DataFrame(data, columns=['file_path', 'id', 'text'])\n",
    "\n",
    "df.head()"
   ]
  },
  {
   "cell_type": "code",
   "execution_count": 30,
   "metadata": {},
   "outputs": [
    {
     "data": {
      "text/plain": [
       "'82622/Visite_1/82622_Question_7_2024-11-05_15-15-03_Video.mp4/82622_Question_7_2024-11-05_15-15-03_Video'"
      ]
     },
     "execution_count": 30,
     "metadata": {},
     "output_type": "execute_result"
    }
   ],
   "source": [
    "df.iloc[0]['file_path']"
   ]
  },
  {
   "cell_type": "code",
   "execution_count": 31,
   "metadata": {},
   "outputs": [
    {
     "data": {
      "text/html": [
       "<div>\n",
       "<style scoped>\n",
       "    .dataframe tbody tr th:only-of-type {\n",
       "        vertical-align: middle;\n",
       "    }\n",
       "\n",
       "    .dataframe tbody tr th {\n",
       "        vertical-align: top;\n",
       "    }\n",
       "\n",
       "    .dataframe thead th {\n",
       "        text-align: right;\n",
       "    }\n",
       "</style>\n",
       "<table border=\"1\" class=\"dataframe\">\n",
       "  <thead>\n",
       "    <tr style=\"text-align: right;\">\n",
       "      <th></th>\n",
       "      <th>language</th>\n",
       "      <th>text</th>\n",
       "      <th>timestamp</th>\n",
       "    </tr>\n",
       "  </thead>\n",
       "  <tbody>\n",
       "    <tr>\n",
       "      <th>0</th>\n",
       "      <td>english</td>\n",
       "      <td>I could have switched jobs by now, but I have...</td>\n",
       "      <td>(0.0, 9.56)</td>\n",
       "    </tr>\n",
       "    <tr>\n",
       "      <th>1</th>\n",
       "      <td>english</td>\n",
       "      <td>and the uncertainty of a new job.</td>\n",
       "      <td>(9.56, 11.68)</td>\n",
       "    </tr>\n",
       "  </tbody>\n",
       "</table>\n",
       "</div>"
      ],
      "text/plain": [
       "  language                                               text      timestamp\n",
       "0  english   I could have switched jobs by now, but I have...    (0.0, 9.56)\n",
       "1  english                  and the uncertainty of a new job.  (9.56, 11.68)"
      ]
     },
     "execution_count": 31,
     "metadata": {},
     "output_type": "execute_result"
    }
   ],
   "source": [
    "import yaml\n",
    "\n",
    "sample = df.iloc[3]\n",
    "\n",
    "yaml_path = os.path.join('/Coding/CVPR2025_abaw_framewise/data_abaw/transcription', sample['file_path'] + '.yml')\n",
    "# print(yaml_path)\n",
    "# print(\"/Coding/CVPR2025_abaw_framewise/data_abaw/transcription/82557/Visite 1/82557_Question_1_2024-08-22 14-46-11_Video.mp4/82557_Question_1_2024-08-22 14-46-11_Video.yml\")\n",
    "\n",
    "with open(yaml_path, 'r', encoding='utf-8') as file:\n",
    "    data = yaml.load(file, Loader=yaml.FullLoader)\n",
    "\n",
    "one_yml_df = pd.DataFrame(data['chunks'])\n",
    "one_yml_df\n"
   ]
  },
  {
   "cell_type": "code",
   "execution_count": 32,
   "metadata": {},
   "outputs": [
    {
     "data": {
      "image/png": "[encoded data removed]",
      "text/plain": [
       "<Figure size 1000x600 with 1 Axes>"
      ]
     },
     "metadata": {},
     "output_type": "display_data"
    }
   ],
   "source": [
    "import matplotlib.pyplot as plt\n",
    "\n",
    "durations = []\n",
    "\n",
    "for _, sample in df.iterrows():\n",
    "    yaml_path = os.path.join('/Coding/CVPR2025_abaw_framewise/data_abaw/transcription', sample['file_path'] + '.yml')\n",
    "    with open(yaml_path, 'r', encoding='utf-8') as file:\n",
    "        data = yaml.load(file, Loader=yaml.FullLoader)    \n",
    "    chunks_df = pd.DataFrame(data.get('chunks', []))    \n",
    "    chunks_df[['start_time', 'end_time']] = pd.DataFrame(chunks_df['timestamp'].tolist(), index=chunks_df.index)\n",
    "    chunks_df = chunks_df.drop(columns=['timestamp'])\n",
    "    \n",
    "    chunks_df['duration'] = chunks_df['end_time'] - chunks_df['start_time']\n",
    "    durations.extend(chunks_df['duration'].dropna())\n",
    "\n",
    "\n",
    "# Erstellung des Histogramms, wenn Daten vorhanden sind\n",
    "if durations:\n",
    "    plt.figure(figsize=(10, 6))\n",
    "    plt.hist(durations, bins=20, edgecolor='black')\n",
    "    plt.xlabel('Dauer (Sekunden)')\n",
    "    plt.ylabel('Anzahl der Chunks')\n",
    "    plt.title('Histogramm der Chunk-Dauern')\n",
    "    plt.grid(True)\n",
    "    plt.show()\n",
    "else:\n",
    "    print(\"Keine Chunk-Dauern zum Anzeigen vorhanden.\")"
   ]
  },
  {
   "cell_type": "code",
   "execution_count": 33,
   "metadata": {},
   "outputs": [
    {
     "name": "stdout",
     "output_type": "stream",
     "text": [
      "Betroffene Zeitstempel: [(0.0, 9.56), (9.56, 11.68)]\n",
      "Betroffene Texte: [\" I could have switched jobs by now, but I haven't done yet because I'm afraid of the possibilities\", ' and the uncertainty of a new job.']\n"
     ]
    }
   ],
   "source": [
    "text_df = one_yml_df\n",
    "\n",
    "# Definiertes Sound-Intervall\n",
    "sound_interval = (0.0, 10.0)\n",
    "\n",
    "# Finden der Chunks, die vom Sound-Intervall betroffen sind\n",
    "affected_chunks = text_df[\n",
    "    (text_df['timestamp'].apply(lambda x: x[1] > sound_interval[0])) &\n",
    "    (text_df['timestamp'].apply(lambda x: x[0] < sound_interval[1]))\n",
    "]\n",
    "\n",
    "# Extrahieren der Zeitstempel der betroffenen Chunks\n",
    "time_stamps = affected_chunks['timestamp'].tolist()\n",
    "\n",
    "# Extrahieren des Textes der betroffenen Chunks\n",
    "texts = affected_chunks['text'].tolist()\n",
    "\n",
    "print(\"Betroffene Zeitstempel:\", time_stamps)\n",
    "print(\"Betroffene Texte:\", texts)"
   ]
  },
  {
   "cell_type": "code",
   "execution_count": 66,
   "metadata": {},
   "outputs": [
    {
     "name": "stdout",
     "output_type": "stream",
     "text": [
      "time_stamps_within_left within (0, 13) -> split at 6.5: [(0, 5), (4, 9)]\n",
      "time_stamps_within_left within (0, 13) -> split at 6.5: [(4, 9), (11, 15)]\n",
      "0.6428571428571429\n",
      "0.3571428571428571\n"
     ]
    }
   ],
   "source": [
    "import numpy as np\n",
    "\n",
    "time_stamps = [\n",
    "    (0, 5),\n",
    "    (4, 9),\n",
    "    (11, 15),\n",
    "    (14, 20),\n",
    "    (18, 25),\n",
    "    (30, 35)\n",
    "]\n",
    "\n",
    "\n",
    "sound_interval = (0,13)\n",
    "time_midpoint = sound_interval[0] + (sound_interval[1] - sound_interval[0]) / 2\n",
    "\n",
    "time_stamps_within_left = [ts for ts in time_stamps \n",
    "                            if (ts[0] <= sound_interval[0] and ts[1] > sound_interval[0])  \n",
    "                            or (ts[0] > sound_interval[0]  and ts[0] < time_midpoint)\n",
    "                            ]\n",
    "time_stamps_within_right = [ts for ts in time_stamps \n",
    "                            if (ts[0] >= time_midpoint and ts[0] < sound_interval[1])  \n",
    "                            or (ts[0] < time_midpoint  and ts[1] > time_midpoint)\n",
    "                            ]\n",
    "\n",
    "print(f\"time_stamps_within_left within {sound_interval} -> split at {time_midpoint}: {time_stamps_within_left}\")\n",
    "print(f\"time_stamps_within_left within {sound_interval} -> split at {time_midpoint}: {time_stamps_within_right}\")\n",
    "\n",
    "if time_stamps_within_left:\n",
    "    redundant_time_left = np.sum([sound_interval[0] - ts[0] for ts in time_stamps_within_left if ts[0] < sound_interval[0]]) + np.sum([ts[1] - time_midpoint for ts in time_stamps_within_left if ts[1] > time_midpoint])\n",
    "else:\n",
    "    redundant_time_left = 1e3\n",
    "\n",
    "if time_stamps_within_right:\n",
    "    redundant_time_right = np.sum([time_midpoint - ts[0] for ts in time_stamps_within_right if ts[0] < time_midpoint])+ np.sum([ts[1] - sound_interval[1] for ts in time_stamps_within_right if ts[1] > sound_interval[1]])\n",
    "else:\n",
    "    redundant_time_right = 1e3\n",
    "\n",
    "\n",
    "text_weight_a = (1/redundant_time_left) / (1/redundant_time_left + 1/redundant_time_right) \n",
    "text_weight_b = (1/redundant_time_right) / (1/redundant_time_left + 1/redundant_time_right) \n",
    "\n",
    "print(text_weight_a)\n",
    "print(text_weight_b)"
   ]
  },
  {
   "cell_type": "markdown",
   "metadata": {},
   "source": []
  }
 ],
 "metadata": {
  "kernelspec": {
   "display_name": "base",
   "language": "python",
   "name": "python3"
  },
  "language_info": {
   "codemirror_mode": {
    "name": "ipython",
    "version": 3
   },
   "file_extension": ".py",
   "mimetype": "text/x-python",
   "name": "python",
   "nbconvert_exporter": "python",
   "pygments_lexer": "ipython3",
   "version": "3.12.2"
  }
 },
 "nbformat": 4,
 "nbformat_minor": 2
}
