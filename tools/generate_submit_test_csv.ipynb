{
 "cells": [
  {
   "cell_type": "code",
   "execution_count": null,
   "metadata": {},
   "outputs": [],
   "source": [
    "import os\n",
    "os.chdir('/Coding/CVPR2025_abaw_framewise/')"
   ]
  },
  {
   "cell_type": "code",
   "execution_count": null,
   "metadata": {},
   "outputs": [
    {
     "name": "stdout",
     "output_type": "stream",
     "text": [
      "     frame_start_index  frame_end_index  class_id  sound_start_index  \\\n",
      "0                    0              460         0                  0   \n",
      "1                    0              670         0                  0   \n",
      "2                    0             1065         0                  0   \n",
      "3                    0              479         0                  0   \n",
      "4                    0              383         0                  0   \n",
      "..                 ...              ...       ...                ...   \n",
      "275                  0              254         0                  0   \n",
      "276                  0              383         0                  0   \n",
      "277                  0              284         0                  0   \n",
      "278                  0              180         0                  0   \n",
      "279                  0              269         0                  0   \n",
      "\n",
      "     sound_end_index                                       general_path  \n",
      "0             306666  82683/Visite_1/82683_Question_1_2024-11-14_09-...  \n",
      "1             446666  82683/Visite_1/82683_Question_2_2024-11-14_09-...  \n",
      "2             710000  82683/Visite_1/82683_Question_3_2024-11-14_09-...  \n",
      "3             319333  82683/Visite_1/82683_Question_4_2024-11-14_09-...  \n",
      "4             255333  82683/Visite_1/82683_Question_5_2024-11-14_09-...  \n",
      "..               ...                                                ...  \n",
      "275           169333  82568/Visite 1/82568_Question_3_2024-10-02 15-...  \n",
      "276           255333  82568/Visite 1/82568_Question_4_2024-10-02 15-...  \n",
      "277           189333  82568/Visite 1/82568_Question_5_2024-10-02 15-...  \n",
      "278           120000  82568/Visite 1/82568_Question_6_2024-10-02 15-...  \n",
      "279           179333  82568/Visite 1/82568_Question_7_2024-10-02 15-...  \n",
      "\n",
      "[280 rows x 6 columns]\n"
     ]
    }
   ],
   "source": [
    "import pandas as pd\n",
    "import os, math\n",
    "\n",
    "fps = 24  \n",
    "sr = 16000  \n",
    "\n",
    "input_path = \"/Coding/CVPR2025_abaw_framewise/data_abaw/test_data/submissions (examples)/trial-0.txt\"\n",
    "\n",
    "# Datei einlesen\n",
    "with open(input_path, 'r') as file:\n",
    "    lines = [line.strip() for line in file.readlines()]\n",
    "\n",
    "frame_dict = {}\n",
    "\n",
    "for line in lines:\n",
    "    frame_path, _ = line.split(',')\n",
    "    general_path = os.path.dirname(frame_path)\n",
    "    video_name = os.path.basename(general_path).replace('.mp4', '')\n",
    "    key = f\"{general_path}/{video_name}\"\n",
    "\n",
    "    frame_number = int(os.path.basename(frame_path).replace(\"frame-\", \"\").replace(\".jpg\", \"\"))\n",
    "\n",
    "    if key not in frame_dict:\n",
    "        frame_dict[key] = []\n",
    "\n",
    "    frame_dict[key].append(frame_number)\n",
    "\n",
    "rows = []\n",
    "\n",
    "for key, frame_numbers in frame_dict.items():\n",
    "    frame_start_index = min(frame_numbers)\n",
    "    frame_end_index = max(frame_numbers)\n",
    "\n",
    "    sound_start_index = 0\n",
    "    sound_end_index = math.floor((frame_end_index / fps) * sr)\n",
    "\n",
    "    rows.append({\n",
    "        \"frame_start_index\": frame_start_index,\n",
    "        \"frame_end_index\": frame_end_index,\n",
    "        \"class_id\": 0,\n",
    "        \"sound_start_index\": sound_start_index,\n",
    "        \"sound_end_index\": sound_end_index,\n",
    "        \"general_path\": key\n",
    "    })\n",
    "\n",
    "df = pd.DataFrame(rows)\n"
   ]
  },
  {
   "cell_type": "code",
   "execution_count": 6,
   "metadata": {},
   "outputs": [
    {
     "name": "stdout",
     "output_type": "stream",
     "text": [
      "frame_start_index                                                    0\n",
      "frame_end_index                                                   1065\n",
      "class_id                                                             0\n",
      "sound_start_index                                                    0\n",
      "sound_end_index                                                 710000\n",
      "general_path         82683/Visite_1/82683_Question_3_2024-11-14_09-...\n",
      "Name: 2, dtype: object\n"
     ]
    }
   ],
   "source": [
    "print(df.iloc[2])"
   ]
  },
  {
   "cell_type": "code",
   "execution_count": 8,
   "metadata": {},
   "outputs": [],
   "source": [
    "test_csv_path =\"/Coding/CVPR2025_abaw_framewise/data_abaw/test_data/test.csv\"\n",
    "\n",
    "df.to_csv(test_csv_path, index=False)"
   ]
  }
 ],
 "metadata": {
  "kernelspec": {
   "display_name": "base",
   "language": "python",
   "name": "python3"
  },
  "language_info": {
   "codemirror_mode": {
    "name": "ipython",
    "version": 3
   },
   "file_extension": ".py",
   "mimetype": "text/x-python",
   "name": "python",
   "nbconvert_exporter": "python",
   "pygments_lexer": "ipython3",
   "version": "3.12.2"
  }
 },
 "nbformat": 4,
 "nbformat_minor": 2
}
