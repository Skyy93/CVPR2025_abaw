{
 "cells": [
  {
   "cell_type": "code",
   "execution_count": 4,
   "metadata": {},
   "outputs": [],
   "source": [
    "import os\n",
    "os.chdir('/Coding/CVPR2025_abaw_framewise/')"
   ]
  },
  {
   "cell_type": "code",
   "execution_count": 5,
   "metadata": {},
   "outputs": [
    {
     "name": "stdout",
     "output_type": "stream",
     "text": [
      "F1 score for [0,0....]: 0.674065070583054\n",
      "F1 score for [1,1....]: 0.08397536141640863\n"
     ]
    }
   ],
   "source": [
    "from sklearn.metrics import f1_score\n",
    "\n",
    "import pandas as pd\n",
    "import numpy as np\n",
    "\n",
    "path = \"debug.csv\"\n",
    "df = pd.read_csv(path)\n",
    "\n",
    "y_true = df[\"class_id\"]\n",
    "\n",
    "y_pred_0 = np.zeros(len(y_true), dtype=int)  # Array voller 0en\n",
    "y_pred_1 = np.ones(len(y_true), dtype=int)   # Array voller 1en\n",
    "\n",
    "f1_0 = f1_score(y_true, y_pred_0, average=\"weighted\")\n",
    "f1_1 = f1_score(y_true, y_pred_1, average=\"weighted\")\n",
    "\n",
    "print(\"F1 score for [0,0....]:\", f1_0)\n",
    "print(\"F1 score for [1,1....]:\", f1_1)"
   ]
  },
  {
   "cell_type": "code",
   "execution_count": 7,
   "metadata": {},
   "outputs": [
    {
     "name": "stdout",
     "output_type": "stream",
     "text": [
      "F1_w score: 0.7118517320434783\n"
     ]
    }
   ],
   "source": [
    "path = \"/Coding/CVPR2025_abaw_framewise/data_abaw/splits/val_relaxed.csv\"\n",
    "df_val = pd.read_csv(path)\n",
    "\n",
    "path = \"/Coding/CVPR2025_abaw_framewise/data_abaw/test_data/output/trial_eval-test.txt\"\n",
    "df_val_inference = pd.read_csv(path, header=None)\n",
    "df_val_inference.columns = [str(i) for i in range(df_val_inference.shape[1])]\n",
    "\n",
    "\n",
    "predictions = df_val_inference[\"2\"]\n",
    "y_true = df_val[\"class_id\"]\n",
    "\n",
    "f1 = f1_score(y_true, predictions, average=\"weighted\")\n",
    "\n",
    "print(\"F1_w score:\", f1)\n",
    "\n",
    "\n"
   ]
  }
 ],
 "metadata": {
  "kernelspec": {
   "display_name": "base",
   "language": "python",
   "name": "python3"
  },
  "language_info": {
   "codemirror_mode": {
    "name": "ipython",
    "version": 3
   },
   "file_extension": ".py",
   "mimetype": "text/x-python",
   "name": "python",
   "nbconvert_exporter": "python",
   "pygments_lexer": "ipython3",
   "version": "3.12.2"
  }
 },
 "nbformat": 4,
 "nbformat_minor": 2
}
